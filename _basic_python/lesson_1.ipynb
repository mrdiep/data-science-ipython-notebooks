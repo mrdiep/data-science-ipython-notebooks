{
 "cells": [
  {
   "cell_type": "code",
   "execution_count": 1,
   "metadata": {},
   "outputs": [],
   "source": [
    "from math import cos as X\n",
    "import math\n"
   ]
  },
  {
   "cell_type": "code",
   "execution_count": 2,
   "metadata": {},
   "outputs": [
    {
     "data": {
      "text/plain": [
       "['C:\\\\Users\\\\DiepNV4\\\\Desktop\\\\data-science-ipython-notebooks\\\\_basic_python',\n",
       " 'C:\\\\Users\\\\DiepNV4\\\\anaconda3\\\\python38.zip',\n",
       " 'C:\\\\Users\\\\DiepNV4\\\\anaconda3\\\\DLLs',\n",
       " 'C:\\\\Users\\\\DiepNV4\\\\anaconda3\\\\lib',\n",
       " 'C:\\\\Users\\\\DiepNV4\\\\anaconda3',\n",
       " '',\n",
       " 'C:\\\\Users\\\\DiepNV4\\\\anaconda3\\\\lib\\\\site-packages',\n",
       " 'C:\\\\Users\\\\DiepNV4\\\\anaconda3\\\\lib\\\\site-packages\\\\win32',\n",
       " 'C:\\\\Users\\\\DiepNV4\\\\anaconda3\\\\lib\\\\site-packages\\\\win32\\\\lib',\n",
       " 'C:\\\\Users\\\\DiepNV4\\\\anaconda3\\\\lib\\\\site-packages\\\\Pythonwin',\n",
       " 'C:\\\\Users\\\\DiepNV4\\\\anaconda3\\\\lib\\\\site-packages\\\\IPython\\\\extensions',\n",
       " 'C:\\\\Users\\\\DiepNV4\\\\.ipython']"
      ]
     },
     "execution_count": 2,
     "metadata": {},
     "output_type": "execute_result"
    }
   ],
   "source": [
    "import os,sys\n",
    "sys.path"
   ]
  },
  {
   "cell_type": "code",
   "execution_count": 3,
   "metadata": {},
   "outputs": [
    {
     "data": {
      "text/plain": [
       "'C:\\\\Users\\\\DiepNV4\\\\Desktop\\\\data-science-ipython-notebooks\\\\_basic_python\\\\modules'"
      ]
     },
     "execution_count": 3,
     "metadata": {},
     "output_type": "execute_result"
    }
   ],
   "source": [
    "lib_path = os.path.abspath(os.path.join('modules'))\n",
    "lib_path"
   ]
  },
  {
   "cell_type": "code",
   "execution_count": 4,
   "metadata": {},
   "outputs": [
    {
     "data": {
      "text/plain": [
       "'modules'"
      ]
     },
     "execution_count": 4,
     "metadata": {},
     "output_type": "execute_result"
    }
   ],
   "source": [
    "os.path.join('modules')"
   ]
  },
  {
   "cell_type": "markdown",
   "metadata": {},
   "source": [
    "Quản lý context:"
   ]
  },
  {
   "cell_type": "code",
   "execution_count": 5,
   "metadata": {},
   "outputs": [],
   "source": [
    "class Foo():\n",
    "    def __init__(self):\n",
    "        print('__init__ called')\n",
    "        self.init_var = 0\n",
    "        \n",
    "    def __enter__(self):\n",
    "        print('__enter__ called')\n",
    "        return self\n",
    "    \n",
    "    def __exit__(self, exc_type, exc_value, exc_traceback):\n",
    "        print('__exit__ called')\n",
    "        if exc_type:\n",
    "            print(f'exc_type: {exc_type}')\n",
    "            print(f'exc_value: {exc_value}')\n",
    "            print(f'exc_traceback: {exc_traceback}')\n",
    "            \n",
    "    def add_two(self):\n",
    "        self.init_var += 2\n",
    "        \n"
   ]
  },
  {
   "cell_type": "code",
   "execution_count": 6,
   "metadata": {},
   "outputs": [
    {
     "name": "stdout",
     "output_type": "stream",
     "text": [
      "__init__ called\n",
      "__enter__ called\n",
      "do within with\n",
      "__exit__ called\n"
     ]
    }
   ],
   "source": [
    "f = Foo()\n",
    "with f as x:\n",
    "    print('do within with')"
   ]
  },
  {
   "cell_type": "code",
   "execution_count": 7,
   "metadata": {},
   "outputs": [
    {
     "name": "stdout",
     "output_type": "stream",
     "text": [
      "<class 'map'>\n"
     ]
    }
   ],
   "source": [
    "list2 = [1,2,3,4,5]\n",
    "mapValues = map(lambda x: x*2, list2)\n",
    "print(type(mapValues))"
   ]
  },
  {
   "cell_type": "code",
   "execution_count": 8,
   "metadata": {},
   "outputs": [
    {
     "name": "stdout",
     "output_type": "stream",
     "text": [
      "[2, 4, 6, 8, 10]\n"
     ]
    }
   ],
   "source": [
    " print(list(mapValues))"
   ]
  },
  {
   "cell_type": "code",
   "execution_count": 11,
   "metadata": {},
   "outputs": [
    {
     "data": {
      "text/plain": [
       "[6, 8, 10]"
      ]
     },
     "execution_count": 11,
     "metadata": {},
     "output_type": "execute_result"
    }
   ],
   "source": [
    "[x * 2 for x in list2 if x > 2]"
   ]
  },
  {
   "cell_type": "code",
   "execution_count": null,
   "metadata": {},
   "outputs": [],
   "source": []
  }
 ],
 "metadata": {
  "kernelspec": {
   "display_name": "Python 3",
   "language": "python",
   "name": "python3"
  },
  "language_info": {
   "codemirror_mode": {
    "name": "ipython",
    "version": 3
   },
   "file_extension": ".py",
   "mimetype": "text/x-python",
   "name": "python",
   "nbconvert_exporter": "python",
   "pygments_lexer": "ipython3",
   "version": "3.8.3"
  }
 },
 "nbformat": 4,
 "nbformat_minor": 4
}
